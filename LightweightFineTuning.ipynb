{
 "cells": [
  {
   "cell_type": "markdown",
   "id": "f35354cd",
   "metadata": {},
   "source": [
    "# Lightweight Fine-Tuning Project"
   ]
  },
  {
   "cell_type": "markdown",
   "id": "560fb3ff",
   "metadata": {},
   "source": [
    "TODO: In this cell, describe your choices for each of the following\n",
    "\n",
    "* PEFT technique: LoRA\n",
    "* Model: distilbert-base-uncased\n",
    "* Evaluation approach: huggingface evaluate method\n",
    "* Fine-tuning dataset: ealvaradob/phishing-dataset"
   ]
  },
  {
   "cell_type": "markdown",
   "id": "de8d76bb",
   "metadata": {},
   "source": [
    "## Loading and Evaluating a Foundation Model\n",
    "\n",
    "TODO: In the cells below, load your chosen pre-trained Hugging Face model and evaluate its performance prior to fine-tuning. This step includes loading an appropriate tokenizer and dataset."
   ]
  },
  {
   "cell_type": "code",
   "execution_count": 1,
   "id": "eed6c345",
   "metadata": {},
   "outputs": [],
   "source": [
    "!pip install -U scikit-learn -q\n",
    "!pip install peft -q"
   ]
  },
  {
   "cell_type": "code",
   "execution_count": 2,
   "id": "0074b98b",
   "metadata": {},
   "outputs": [],
   "source": [
    "import numpy as np\n",
    "import torch\n",
    "from datasets import load_dataset, Dataset\n",
    "from sklearn.model_selection import train_test_split\n",
    "import gc\n",
    "from transformers import AutoModelForSequenceClassification, AutoTokenizer, \\\n",
    "    DataCollatorWithPadding, Trainer, TrainingArguments\n",
    "from peft import LoraConfig, get_peft_model, TaskType"
   ]
  },
  {
   "cell_type": "code",
   "execution_count": 3,
   "id": "cb8f4937",
   "metadata": {},
   "outputs": [
    {
     "name": "stdout",
     "output_type": "stream",
     "text": [
      "training on: cuda\n"
     ]
    }
   ],
   "source": [
    "# verify the compute resource\n",
    "device = torch.device(\"cuda\" if torch.cuda.is_available() else \"cpu\")\n",
    "print(f\"training on: {device}\")"
   ]
  },
  {
   "cell_type": "code",
   "execution_count": 4,
   "id": "f551c63a",
   "metadata": {},
   "outputs": [],
   "source": [
    "# REQUIRED FUNCTIONS\n",
    "\n",
    "def get_train_test_sets(num_examples, seed=42, test_size=0.2):\n",
    "    \"\"\"\n",
    "    Loads phishing-dataset from Huggingface and splits into train and test sets.\n",
    "    \n",
    "    Args:\n",
    "        seed: (int) ensures reproducable random sample\n",
    "        num_examples: (int) number of samples to split into train and test\n",
    "        test_size: (float) fraction of dataset to hold back for evaluation\n",
    "        \n",
    "    Returns:\n",
    "        tuple of train and test datasets as Dataset objects\n",
    "        \n",
    "    \"\"\"\n",
    "    \n",
    "    dataset = load_dataset(\"ealvaradob/phishing-dataset\", \"combined_reduced\", trust_remote_code=True).shuffle(seed=seed)\n",
    "    display(dataset)\n",
    "    \n",
    "    # turn Dataset object into a pandas df in order to get a random sample and use sklearn train_test_split\n",
    "    df = dataset['train'].to_pandas().sample(n=num_examples, random_state=seed)\n",
    "\n",
    "    # Delete the original dataset to free up memory\n",
    "    del dataset\n",
    "\n",
    "    # Run the garbage collector\n",
    "    gc.collect()\n",
    "\n",
    "    # preview df\n",
    "    display(df.head())\n",
    "    print(f\"num samples: {len(df)}\")\n",
    "    \n",
    "    # split into train and test sets\n",
    "    train, test = train_test_split(df, test_size=test_size, shuffle=True, random_state=seed)\n",
    "\n",
    "    # convert back into Dataset objects\n",
    "    train, test = Dataset.from_pandas(train, preserve_index=False), Dataset.from_pandas(test, preserve_index=False)\n",
    "    \n",
    "    return train, test\n",
    "\n",
    "\n",
    "def tokenize_dataset(train, test, model_name=\"distilbert-base-uncased\"):\n",
    "    \"\"\"return tokenized examples from the dataset\"\"\"\n",
    "    \n",
    "    tokenizer = AutoTokenizer.from_pretrained(model_name)\n",
    "    \n",
    "    def preprocess_function(examples):\n",
    "        \"\"\"function to map over dataset to tokenize examples\"\"\"\n",
    "        return tokenizer(examples[\"text\"], padding=\"max_length\", truncation=True, return_tensors=\"pt\")\n",
    "\n",
    "    train = train.map(preprocess_function, batched=True)\n",
    "    test = test.map(preprocess_function, batched=True)\n",
    "    \n",
    "    return train, test, tokenizer\n",
    "\n",
    "\n",
    "def build_model(model_name=\"distilbert-base-uncased\", requires_grad=False):\n",
    "    \n",
    "    model = AutoModelForSequenceClassification.from_pretrained(model_name,\n",
    "                                                 num_labels=2,\n",
    "                                                 id2label={0: \"benign\", 1: \"phishing\"},\n",
    "                                                 label2id={\"benign\": 0, \"phishing\": 1},\n",
    "                                                 )\n",
    "        \n",
    "    # Freeze all the parameters of the base model\n",
    "    for param in model.base_model.parameters():\n",
    "        param.requires_grad = requires_grad\n",
    "\n",
    "    return model\n",
    "\n",
    "\n",
    "def compute_metrics(eval_pred):\n",
    "    predictions, labels = eval_pred\n",
    "    predictions = np.argmax(predictions, axis=1)\n",
    "    return {\"accuracy\": (predictions == labels).mean()}\n",
    "\n",
    "\n",
    "def build_trainer(model, train, test, tokenizer, dir_name, lr, batch_size, epochs):\n",
    "    trainer = Trainer(\n",
    "        model=model,\n",
    "        args=TrainingArguments(\n",
    "            output_dir=\"./data/\" + dir_name,\n",
    "            # Set the learning rate\n",
    "            learning_rate = lr,\n",
    "            # Set the per device train batch size and eval batch size\n",
    "            per_device_train_batch_size = batch_size,\n",
    "            per_device_eval_batch_size = batch_size,\n",
    "            # Evaluate and save the model after each epoch\n",
    "            evaluation_strategy = 'epoch',\n",
    "            save_strategy = 'epoch',\n",
    "            num_train_epochs=epochs,\n",
    "            weight_decay=0.01,\n",
    "            load_best_model_at_end=True,\n",
    "        ),\n",
    "        train_dataset=train,\n",
    "        eval_dataset=test,\n",
    "        tokenizer=tokenizer,\n",
    "        data_collator=DataCollatorWithPadding(tokenizer=tokenizer),\n",
    "        compute_metrics=compute_metrics,\n",
    "    )\n",
    "    return trainer\n",
    "\n",
    "\n",
    "def run_inference(index, dataset=lora_test, model=lora_model, tokenizer=lora_tokenizer):\n",
    "    label_map = {0: 'benign',\n",
    "                1: 'phishing'}\n",
    "    \n",
    "    sample = lora_test[index]['text']\n",
    "    label = lora_test[index]['label']\n",
    "    inputs = lora_tokenizer(sample, return_tensors='pt')\n",
    "    outputs = lora_model(**inputs)\n",
    "    predicted_label = outputs.logits.argmax(dim=1).item()\n",
    "    print(f\"sample_text: {sample}\\npredicted: {label_map[predicted_label]}\\nactual:{label_map[label]}\")"
   ]
  },
  {
   "cell_type": "code",
   "execution_count": 5,
   "id": "4935cb4d",
   "metadata": {},
   "outputs": [
    {
     "data": {
      "application/vnd.jupyter.widget-view+json": {
       "model_id": "8b6ed34271564ccfb31009f4fd0ebc5a",
       "version_major": 2,
       "version_minor": 0
      },
      "text/plain": [
       "Downloading builder script:   0%|          | 0.00/3.27k [00:00<?, ?B/s]"
      ]
     },
     "metadata": {},
     "output_type": "display_data"
    },
    {
     "data": {
      "application/vnd.jupyter.widget-view+json": {
       "model_id": "ea9aeda764f24fa9bf5649d511755e93",
       "version_major": 2,
       "version_minor": 0
      },
      "text/plain": [
       "Downloading readme:   0%|          | 0.00/6.75k [00:00<?, ?B/s]"
      ]
     },
     "metadata": {},
     "output_type": "display_data"
    },
    {
     "data": {
      "application/vnd.jupyter.widget-view+json": {
       "model_id": "dde4374b015f4b919aa50ea9b13991ca",
       "version_major": 2,
       "version_minor": 0
      },
      "text/plain": [
       "Downloading data:   0%|          | 0.00/521M [00:00<?, ?B/s]"
      ]
     },
     "metadata": {},
     "output_type": "display_data"
    },
    {
     "data": {
      "application/vnd.jupyter.widget-view+json": {
       "model_id": "bf3c3081a14740c0ac6accf2e2478053",
       "version_major": 2,
       "version_minor": 0
      },
      "text/plain": [
       "Generating train split: 0 examples [00:00, ? examples/s]"
      ]
     },
     "metadata": {},
     "output_type": "display_data"
    },
    {
     "data": {
      "text/plain": [
       "DatasetDict({\n",
       "    train: Dataset({\n",
       "        features: ['text', 'label'],\n",
       "        num_rows: 77677\n",
       "    })\n",
       "})"
      ]
     },
     "metadata": {},
     "output_type": "display_data"
    },
    {
     "data": {
      "text/html": [
       "<div>\n",
       "<style scoped>\n",
       "    .dataframe tbody tr th:only-of-type {\n",
       "        vertical-align: middle;\n",
       "    }\n",
       "\n",
       "    .dataframe tbody tr th {\n",
       "        vertical-align: top;\n",
       "    }\n",
       "\n",
       "    .dataframe thead th {\n",
       "        text-align: right;\n",
       "    }\n",
       "</style>\n",
       "<table border=\"1\" class=\"dataframe\">\n",
       "  <thead>\n",
       "    <tr style=\"text-align: right;\">\n",
       "      <th></th>\n",
       "      <th>text</th>\n",
       "      <th>label</th>\n",
       "    </tr>\n",
       "  </thead>\n",
       "  <tbody>\n",
       "    <tr>\n",
       "      <th>77156</th>\n",
       "      <td>https://warriorplus.com/support/admin/password...</td>\n",
       "      <td>0</td>\n",
       "    </tr>\n",
       "    <tr>\n",
       "      <th>28465</th>\n",
       "      <td>mlssoccer.com/videos?id=21318</td>\n",
       "      <td>0</td>\n",
       "    </tr>\n",
       "    <tr>\n",
       "      <th>12465</th>\n",
       "      <td>Robert Harley writes:\\n&gt; Chuck Murcko wrote:&gt; ...</td>\n",
       "      <td>0</td>\n",
       "    </tr>\n",
       "    <tr>\n",
       "      <th>39444</th>\n",
       "      <td>On the topic ofIt is time to refinance!Your cr...</td>\n",
       "      <td>1</td>\n",
       "    </tr>\n",
       "    <tr>\n",
       "      <th>14496</th>\n",
       "      <td>&lt;!doctypehtml&gt;&lt;html ng-app=app ng-strict-di&gt;&lt;t...</td>\n",
       "      <td>1</td>\n",
       "    </tr>\n",
       "  </tbody>\n",
       "</table>\n",
       "</div>"
      ],
      "text/plain": [
       "                                                    text  label\n",
       "77156  https://warriorplus.com/support/admin/password...      0\n",
       "28465                      mlssoccer.com/videos?id=21318      0\n",
       "12465  Robert Harley writes:\\n> Chuck Murcko wrote:> ...      0\n",
       "39444  On the topic ofIt is time to refinance!Your cr...      1\n",
       "14496  <!doctypehtml><html ng-app=app ng-strict-di><t...      1"
      ]
     },
     "metadata": {},
     "output_type": "display_data"
    },
    {
     "name": "stdout",
     "output_type": "stream",
     "text": [
      "num samples: 15000\n"
     ]
    }
   ],
   "source": [
    "# load dataset and get train/test splits\n",
    "train, test = get_train_test_sets(num_examples=15000)"
   ]
  },
  {
   "cell_type": "code",
   "execution_count": 6,
   "id": "019b9f55",
   "metadata": {},
   "outputs": [
    {
     "name": "stdout",
     "output_type": "stream",
     "text": [
      "sample text: http://line2329.top/\n",
      "length of longest text string: 120761\n"
     ]
    }
   ],
   "source": [
    "# view an example\n",
    "sample = train[2]['text']\n",
    "print(f\"sample text: {sample}\")\n",
    "\n",
    "# check length of longest text string although sequence length will be capped by model limit.\n",
    "max_length = 0\n",
    "\n",
    "for i in train:\n",
    "    if len(i['text']) > max_length:\n",
    "        max_length = len(i['text'])\n",
    "    \n",
    "print(f\"length of longest text string: {max_length}\")"
   ]
  },
  {
   "cell_type": "markdown",
   "id": "99b64689",
   "metadata": {},
   "source": [
    "### Tokenize the Data"
   ]
  },
  {
   "cell_type": "code",
   "execution_count": 7,
   "id": "fb948cd9",
   "metadata": {},
   "outputs": [
    {
     "data": {
      "application/vnd.jupyter.widget-view+json": {
       "model_id": "e50fab93755e4405b7c114b5b341650b",
       "version_major": 2,
       "version_minor": 0
      },
      "text/plain": [
       "tokenizer_config.json:   0%|          | 0.00/48.0 [00:00<?, ?B/s]"
      ]
     },
     "metadata": {},
     "output_type": "display_data"
    },
    {
     "data": {
      "application/vnd.jupyter.widget-view+json": {
       "model_id": "35b95a215a64409b887c03d8e371ed58",
       "version_major": 2,
       "version_minor": 0
      },
      "text/plain": [
       "config.json:   0%|          | 0.00/483 [00:00<?, ?B/s]"
      ]
     },
     "metadata": {},
     "output_type": "display_data"
    },
    {
     "data": {
      "application/vnd.jupyter.widget-view+json": {
       "model_id": "dcf700b1c61c41eab929956c88410e36",
       "version_major": 2,
       "version_minor": 0
      },
      "text/plain": [
       "vocab.txt:   0%|          | 0.00/232k [00:00<?, ?B/s]"
      ]
     },
     "metadata": {},
     "output_type": "display_data"
    },
    {
     "data": {
      "application/vnd.jupyter.widget-view+json": {
       "model_id": "ecdc1e5220044299a1eb9e9ffbd0894c",
       "version_major": 2,
       "version_minor": 0
      },
      "text/plain": [
       "tokenizer.json:   0%|          | 0.00/466k [00:00<?, ?B/s]"
      ]
     },
     "metadata": {},
     "output_type": "display_data"
    },
    {
     "data": {
      "application/vnd.jupyter.widget-view+json": {
       "model_id": "01ba97b372b443f78c58a2710cdb4b60",
       "version_major": 2,
       "version_minor": 0
      },
      "text/plain": [
       "Map:   0%|          | 0/12000 [00:00<?, ? examples/s]"
      ]
     },
     "metadata": {},
     "output_type": "display_data"
    },
    {
     "data": {
      "application/vnd.jupyter.widget-view+json": {
       "model_id": "669cc5631b20428da9282f7971336d7e",
       "version_major": 2,
       "version_minor": 0
      },
      "text/plain": [
       "Map:   0%|          | 0/3000 [00:00<?, ? examples/s]"
      ]
     },
     "metadata": {},
     "output_type": "display_data"
    },
    {
     "name": "stdout",
     "output_type": "stream",
     "text": [
      "[101, 1026, 999, 9986, 13874, 11039, 19968, 1028, 1026, 16129, 17576, 1027, 1000, 13958, 1024, 16770, 1024, 1013, 1013, 13958, 2361, 1012, 2033, 1013, 24978, 1001, 1000, 16101, 1027, 8318, 2099, 11374, 1027, 4372, 1028, 1026, 4957, 17850, 12879, 1027, 1013, 6991, 1013, 7661, 1013, 19804, 11261, 2102, 1035, 4323, 1013, 7045, 1013, 4871, 1013, 6207, 1011, 3543, 1011, 12696, 1012, 1052, 3070, 2128, 2140, 1027, 6207, 1011, 3543, 1011, 12696, 1028, 1026, 4957, 2004, 1027, 5896, 2892, 10050, 11528, 17850, 12879, 1027, 1013, 1013, 7045, 1012, 18106, 11927, 2213, 1012, 4012, 1013, 1021, 2050, 2620, 2050, 2683, 2620, 3207, 2692, 21619, 2509, 26337, 2098, 2692, 2629, 2497, 2683, 2620, 2850, 27531, 2487, 2094, 2575, 2497, 21926, 20842, 2575, 20961, 2581, 9468, 1013, 5871, 29521, 1011, 6021, 2683, 2581, 6679, 26224, 16048, 14141, 27531, 25746, 2487, 3401, 2063, 16086, 12521, 2629, 2094, 21057, 21057, 17465, 2050, 2475, 2546, 2475, 2094, 22394, 2629, 1012, 1046, 2015, 2128, 2140, 1027, 3653, 11066, 1028, 1026, 5896, 5034, 2278, 1027, 1013, 1013, 7045, 1012, 18106, 11927, 2213, 1012, 4012, 1013, 1021, 2050, 2620, 2050, 2683, 2620, 3207, 2692, 21619, 2509, 26337, 2098, 2692, 2629, 2497, 2683, 2620, 2850, 27531, 2487, 2094, 2575, 2497, 21926, 20842, 2575, 20961, 2581, 9468, 1013, 5871, 29521, 1011, 6021, 2683, 2581, 6679, 26224, 16048, 14141, 27531, 25746, 2487, 3401, 2063, 16086, 12521, 2629, 2094, 21057, 21057, 17465, 2050, 2475, 2546, 2475, 2094, 22394, 2629, 1012, 1046, 2015, 1028, 1026, 1013, 5896, 1028, 1026, 18804, 25869, 13462, 1027, 21183, 2546, 1011, 1022, 1028, 1026, 4957, 17850, 12879, 1027, 16770, 1024, 1013, 1013, 9706, 3367, 12672, 7666, 1012, 2267, 6277, 1012, 8917, 1013, 6904, 4160, 2015, 1013, 1045, 1011, 9471, 1011, 2026, 1011, 5310, 18442, 1011, 2030, 1011, 20786, 1011, 2129, 1011, 2079, 1011, 1045, 1011, 2131, 1011, 2009, 2128, 2140, 1027, 18562, 1028, 1026, 18804, 4180, 1027, 1000, 3942, 9471, 5310, 18442, 1029, 2000, 2031, 2115, 5310, 18442, 2741, 2000, 1996, 10373, 4769, 2109, 2000, 2275, 2039, 2115, 4070, 1012, 2065, 2017, 2113, 2115, 5310, 18442, 2021, 2025, 2115, 20786, 1010, 2175, 2000, 9471, 20786, 1029, 1012, 1000, 2171, 1027, 6412, 1028, 1026, 18804, 4180, 1027, 1000, 1045, 9471, 2026, 5310, 18442, 2030, 20786, 1517, 2129, 2079, 1045, 2131, 2009, 1029, 1516, 9706, 2493, 1000, 2171, 1027, 4722, 1011, 3945, 1011, 2516, 1028, 1026, 18804, 4180, 1027, 9381, 2171, 1027, 4684, 7361, 3775, 4328, 5422, 1028, 1026, 18804, 4180, 1027, 2995, 2171, 1027, 27291, 19699, 9013, 18718, 1028, 1026, 18804, 4180, 1027, 9381, 1027, 5080, 1011, 9381, 1010, 3988, 1011, 4094, 1027, 1015, 1010, 4555, 1011, 4094, 1027, 1016, 2171, 1027, 3193, 6442, 1028, 1026, 5896, 2828, 1027, 4646, 1013, 25510, 1009, 1046, 3385, 1028, 1063, 1000, 1030, 6123, 1000, 1024, 1000, 16770, 1024, 1013, 1013, 8040, 28433, 1012, 8917, 1000, 1010, 1000, 1030, 10629, 1000, 1024, 1031, 1063, 1000, 1030, 2828, 1000, 1024, 1000, 6904, 4160, 13704, 1000, 1010, 1000, 7081, 16778, 3723, 1000, 1024, 1063, 1000, 1030, 2828, 1000, 1024, 1000, 3160, 1000, 1010, 1000, 2171, 1000, 1024, 1000, 1045, 9471, 2026, 5310, 18442, 2030, 20786, 1517, 2129, 2079, 102]\n"
     ]
    }
   ],
   "source": [
    "# tokenize the train and test splits\n",
    "train, test, tokenizer = tokenize_dataset(train, test)\n",
    "\n",
    "# Show first example of tokenized training set\n",
    "print(train[0]['input_ids'])"
   ]
  },
  {
   "cell_type": "markdown",
   "id": "0b5fa76a",
   "metadata": {},
   "source": [
    "### Load and setup the model"
   ]
  },
  {
   "cell_type": "code",
   "execution_count": 8,
   "id": "cb64f0ac",
   "metadata": {
    "scrolled": true
   },
   "outputs": [
    {
     "data": {
      "application/vnd.jupyter.widget-view+json": {
       "model_id": "da75a8f7beee44c58847e909420c2920",
       "version_major": 2,
       "version_minor": 0
      },
      "text/plain": [
       "model.safetensors:   0%|          | 0.00/268M [00:00<?, ?B/s]"
      ]
     },
     "metadata": {},
     "output_type": "display_data"
    },
    {
     "name": "stderr",
     "output_type": "stream",
     "text": [
      "Some weights of DistilBertForSequenceClassification were not initialized from the model checkpoint at distilbert-base-uncased and are newly initialized: ['pre_classifier.bias', 'classifier.weight', 'classifier.bias', 'pre_classifier.weight']\n",
      "You should probably TRAIN this model on a down-stream task to be able to use it for predictions and inference.\n"
     ]
    },
    {
     "name": "stdout",
     "output_type": "stream",
     "text": [
      "DistilBertForSequenceClassification(\n",
      "  (distilbert): DistilBertModel(\n",
      "    (embeddings): Embeddings(\n",
      "      (word_embeddings): Embedding(30522, 768, padding_idx=0)\n",
      "      (position_embeddings): Embedding(512, 768)\n",
      "      (LayerNorm): LayerNorm((768,), eps=1e-12, elementwise_affine=True)\n",
      "      (dropout): Dropout(p=0.1, inplace=False)\n",
      "    )\n",
      "    (transformer): Transformer(\n",
      "      (layer): ModuleList(\n",
      "        (0-5): 6 x TransformerBlock(\n",
      "          (attention): MultiHeadSelfAttention(\n",
      "            (dropout): Dropout(p=0.1, inplace=False)\n",
      "            (q_lin): Linear(in_features=768, out_features=768, bias=True)\n",
      "            (k_lin): Linear(in_features=768, out_features=768, bias=True)\n",
      "            (v_lin): Linear(in_features=768, out_features=768, bias=True)\n",
      "            (out_lin): Linear(in_features=768, out_features=768, bias=True)\n",
      "          )\n",
      "          (sa_layer_norm): LayerNorm((768,), eps=1e-12, elementwise_affine=True)\n",
      "          (ffn): FFN(\n",
      "            (dropout): Dropout(p=0.1, inplace=False)\n",
      "            (lin1): Linear(in_features=768, out_features=3072, bias=True)\n",
      "            (lin2): Linear(in_features=3072, out_features=768, bias=True)\n",
      "            (activation): GELUActivation()\n",
      "          )\n",
      "          (output_layer_norm): LayerNorm((768,), eps=1e-12, elementwise_affine=True)\n",
      "        )\n",
      "      )\n",
      "    )\n",
      "  )\n",
      "  (pre_classifier): Linear(in_features=768, out_features=768, bias=True)\n",
      "  (classifier): Linear(in_features=768, out_features=2, bias=True)\n",
      "  (dropout): Dropout(p=0.2, inplace=False)\n",
      ")\n"
     ]
    }
   ],
   "source": [
    "model = build_model()\n",
    "print(model)"
   ]
  },
  {
   "cell_type": "code",
   "execution_count": 9,
   "id": "d7ab972d",
   "metadata": {},
   "outputs": [],
   "source": [
    "# use the huggingface trainer class to train the model\n",
    "trainer = build_trainer(model, train, test, tokenizer, dir_name='phishing_or_benign', \n",
    "                        lr=2e-5, batch_size=16, epochs=1)"
   ]
  },
  {
   "cell_type": "code",
   "execution_count": 10,
   "id": "3d115254",
   "metadata": {},
   "outputs": [
    {
     "name": "stderr",
     "output_type": "stream",
     "text": [
      "You're using a DistilBertTokenizerFast tokenizer. Please note that with a fast tokenizer, using the `__call__` method is faster than using a method to encode the text followed by a call to the `pad` method to get a padded encoding.\n"
     ]
    },
    {
     "data": {
      "text/html": [
       "\n",
       "    <div>\n",
       "      \n",
       "      <progress value='188' max='188' style='width:300px; height:20px; vertical-align: middle;'></progress>\n",
       "      [188/188 00:45]\n",
       "    </div>\n",
       "    "
      ],
      "text/plain": [
       "<IPython.core.display.HTML object>"
      ]
     },
     "metadata": {},
     "output_type": "display_data"
    },
    {
     "data": {
      "text/plain": [
       "{'eval_loss': 0.6962440013885498,\n",
       " 'eval_accuracy': 0.45,\n",
       " 'eval_runtime': 46.8856,\n",
       " 'eval_samples_per_second': 63.986,\n",
       " 'eval_steps_per_second': 4.01}"
      ]
     },
     "execution_count": 10,
     "metadata": {},
     "output_type": "execute_result"
    }
   ],
   "source": [
    "trainer.evaluate()"
   ]
  },
  {
   "cell_type": "markdown",
   "id": "4d52a229",
   "metadata": {},
   "source": [
    "## Performing Parameter-Efficient Fine-Tuning\n",
    "\n",
    "TODO: In the cells below, create a PEFT model from your loaded model, run a training loop, and save the PEFT model weights."
   ]
  },
  {
   "cell_type": "code",
   "execution_count": 12,
   "id": "f9ca3fdd",
   "metadata": {},
   "outputs": [
    {
     "data": {
      "text/plain": [
       "DatasetDict({\n",
       "    train: Dataset({\n",
       "        features: ['text', 'label'],\n",
       "        num_rows: 77677\n",
       "    })\n",
       "})"
      ]
     },
     "metadata": {},
     "output_type": "display_data"
    },
    {
     "data": {
      "text/html": [
       "<div>\n",
       "<style scoped>\n",
       "    .dataframe tbody tr th:only-of-type {\n",
       "        vertical-align: middle;\n",
       "    }\n",
       "\n",
       "    .dataframe tbody tr th {\n",
       "        vertical-align: top;\n",
       "    }\n",
       "\n",
       "    .dataframe thead th {\n",
       "        text-align: right;\n",
       "    }\n",
       "</style>\n",
       "<table border=\"1\" class=\"dataframe\">\n",
       "  <thead>\n",
       "    <tr style=\"text-align: right;\">\n",
       "      <th></th>\n",
       "      <th>text</th>\n",
       "      <th>label</th>\n",
       "    </tr>\n",
       "  </thead>\n",
       "  <tbody>\n",
       "    <tr>\n",
       "      <th>77156</th>\n",
       "      <td>https://warriorplus.com/support/admin/password...</td>\n",
       "      <td>0</td>\n",
       "    </tr>\n",
       "    <tr>\n",
       "      <th>28465</th>\n",
       "      <td>mlssoccer.com/videos?id=21318</td>\n",
       "      <td>0</td>\n",
       "    </tr>\n",
       "    <tr>\n",
       "      <th>12465</th>\n",
       "      <td>Robert Harley writes:\\n&gt; Chuck Murcko wrote:&gt; ...</td>\n",
       "      <td>0</td>\n",
       "    </tr>\n",
       "    <tr>\n",
       "      <th>39444</th>\n",
       "      <td>On the topic ofIt is time to refinance!Your cr...</td>\n",
       "      <td>1</td>\n",
       "    </tr>\n",
       "    <tr>\n",
       "      <th>14496</th>\n",
       "      <td>&lt;!doctypehtml&gt;&lt;html ng-app=app ng-strict-di&gt;&lt;t...</td>\n",
       "      <td>1</td>\n",
       "    </tr>\n",
       "  </tbody>\n",
       "</table>\n",
       "</div>"
      ],
      "text/plain": [
       "                                                    text  label\n",
       "77156  https://warriorplus.com/support/admin/password...      0\n",
       "28465                      mlssoccer.com/videos?id=21318      0\n",
       "12465  Robert Harley writes:\\n> Chuck Murcko wrote:> ...      0\n",
       "39444  On the topic ofIt is time to refinance!Your cr...      1\n",
       "14496  <!doctypehtml><html ng-app=app ng-strict-di><t...      1"
      ]
     },
     "metadata": {},
     "output_type": "display_data"
    },
    {
     "name": "stdout",
     "output_type": "stream",
     "text": [
      "num samples: 15000\n"
     ]
    }
   ],
   "source": [
    "lora_train, lora_test = get_train_test_sets(num_examples=15000)"
   ]
  },
  {
   "cell_type": "code",
   "execution_count": 13,
   "id": "ecbaf430",
   "metadata": {},
   "outputs": [
    {
     "data": {
      "application/vnd.jupyter.widget-view+json": {
       "model_id": "7366d7ef9c554a7ea90ca0ef90cae26d",
       "version_major": 2,
       "version_minor": 0
      },
      "text/plain": [
       "Map:   0%|          | 0/12000 [00:00<?, ? examples/s]"
      ]
     },
     "metadata": {},
     "output_type": "display_data"
    },
    {
     "data": {
      "application/vnd.jupyter.widget-view+json": {
       "model_id": "610aeca8b5ae4a2dbbb5c02ee946c944",
       "version_major": 2,
       "version_minor": 0
      },
      "text/plain": [
       "Map:   0%|          | 0/3000 [00:00<?, ? examples/s]"
      ]
     },
     "metadata": {},
     "output_type": "display_data"
    }
   ],
   "source": [
    "lora_train, lora_test, lora_tokenizer = tokenize_dataset(lora_train, lora_test)"
   ]
  },
  {
   "cell_type": "code",
   "execution_count": 14,
   "id": "096bd84e",
   "metadata": {},
   "outputs": [
    {
     "data": {
      "text/plain": [
       "Dataset({\n",
       "    features: ['text', 'label', 'input_ids', 'attention_mask'],\n",
       "    num_rows: 12000\n",
       "})"
      ]
     },
     "execution_count": 14,
     "metadata": {},
     "output_type": "execute_result"
    }
   ],
   "source": [
    "lora_train"
   ]
  },
  {
   "cell_type": "code",
   "execution_count": 15,
   "id": "d97a22eb",
   "metadata": {},
   "outputs": [
    {
     "name": "stderr",
     "output_type": "stream",
     "text": [
      "Some weights of DistilBertForSequenceClassification were not initialized from the model checkpoint at distilbert-base-uncased and are newly initialized: ['pre_classifier.bias', 'classifier.weight', 'classifier.bias', 'pre_classifier.weight']\n",
      "You should probably TRAIN this model on a down-stream task to be able to use it for predictions and inference.\n"
     ]
    }
   ],
   "source": [
    "lora_model = build_model()"
   ]
  },
  {
   "cell_type": "code",
   "execution_count": 20,
   "id": "894046c0",
   "metadata": {},
   "outputs": [],
   "source": [
    "\n",
    "# create a PEFT config\n",
    "config = LoraConfig(\n",
    "    task_type=TaskType.SEQ_CLS,\n",
    "    r=8,\n",
    "    lora_alpha=32,\n",
    "    lora_dropout=0.10,\n",
    "    bias=\"none\",\n",
    "    target_modules=[\"q_lin\", \"k_lin\", \"v_lin\", \"out_lin\", \"ffn.lin1\", \"ffn.lin2\"] #can only apply LoRA to linear layers\n",
    ")\n",
    "\n",
    "# create a PEFT model\n",
    "lora_model = get_peft_model(lora_model, config)"
   ]
  },
  {
   "cell_type": "code",
   "execution_count": 23,
   "id": "866fe2dc",
   "metadata": {},
   "outputs": [
    {
     "name": "stdout",
     "output_type": "stream",
     "text": [
      "trainable params: 1,847,812 || all params: 68,210,692 || trainable%: 2.708977061836581\n"
     ]
    }
   ],
   "source": [
    "lora_model.print_trainable_parameters()"
   ]
  },
  {
   "cell_type": "code",
   "execution_count": 25,
   "id": "c4d4c908",
   "metadata": {},
   "outputs": [],
   "source": [
    "lora_trainer = build_trainer(lora_model, lora_train, lora_test, \n",
    "                             lora_tokenizer, dir_name='lora_phishing_or_benign', lr=2e-5, batch_size=16, epochs=2)"
   ]
  },
  {
   "cell_type": "code",
   "execution_count": 26,
   "id": "653a69ca",
   "metadata": {},
   "outputs": [
    {
     "data": {
      "text/html": [
       "\n",
       "    <div>\n",
       "      \n",
       "      <progress value='1500' max='1500' style='width:300px; height:20px; vertical-align: middle;'></progress>\n",
       "      [1500/1500 19:34, Epoch 2/2]\n",
       "    </div>\n",
       "    <table border=\"1\" class=\"dataframe\">\n",
       "  <thead>\n",
       " <tr style=\"text-align: left;\">\n",
       "      <th>Epoch</th>\n",
       "      <th>Training Loss</th>\n",
       "      <th>Validation Loss</th>\n",
       "      <th>Accuracy</th>\n",
       "    </tr>\n",
       "  </thead>\n",
       "  <tbody>\n",
       "    <tr>\n",
       "      <td>1</td>\n",
       "      <td>0.210600</td>\n",
       "      <td>0.217393</td>\n",
       "      <td>0.924000</td>\n",
       "    </tr>\n",
       "    <tr>\n",
       "      <td>2</td>\n",
       "      <td>0.193600</td>\n",
       "      <td>0.193034</td>\n",
       "      <td>0.930000</td>\n",
       "    </tr>\n",
       "  </tbody>\n",
       "</table><p>"
      ],
      "text/plain": [
       "<IPython.core.display.HTML object>"
      ]
     },
     "metadata": {},
     "output_type": "display_data"
    },
    {
     "name": "stderr",
     "output_type": "stream",
     "text": [
      "Checkpoint destination directory ./data/lora_phishing_or_benign/checkpoint-750 already exists and is non-empty.Saving will proceed but saved results may be invalid.\n"
     ]
    },
    {
     "data": {
      "text/plain": [
       "TrainOutput(global_step=1500, training_loss=0.19672984313964845, metrics={'train_runtime': 1175.6971, 'train_samples_per_second': 20.413, 'train_steps_per_second': 1.276, 'total_flos': 3271796490240000.0, 'train_loss': 0.19672984313964845, 'epoch': 2.0})"
      ]
     },
     "execution_count": 26,
     "metadata": {},
     "output_type": "execute_result"
    }
   ],
   "source": [
    "# Start training\n",
    "lora_trainer.train()"
   ]
  },
  {
   "cell_type": "code",
   "execution_count": 27,
   "id": "fa7fe003",
   "metadata": {},
   "outputs": [
    {
     "data": {
      "text/html": [
       "\n",
       "    <div>\n",
       "      \n",
       "      <progress value='188' max='188' style='width:300px; height:20px; vertical-align: middle;'></progress>\n",
       "      [188/188 00:56]\n",
       "    </div>\n",
       "    "
      ],
      "text/plain": [
       "<IPython.core.display.HTML object>"
      ]
     },
     "metadata": {},
     "output_type": "display_data"
    },
    {
     "data": {
      "text/plain": [
       "{'eval_loss': 0.19303371012210846,\n",
       " 'eval_accuracy': 0.93,\n",
       " 'eval_runtime': 57.3638,\n",
       " 'eval_samples_per_second': 52.298,\n",
       " 'eval_steps_per_second': 3.277,\n",
       " 'epoch': 2.0}"
      ]
     },
     "execution_count": 27,
     "metadata": {},
     "output_type": "execute_result"
    }
   ],
   "source": [
    "lora_trainer.evaluate()"
   ]
  },
  {
   "cell_type": "code",
   "execution_count": 28,
   "id": "615ce50a",
   "metadata": {},
   "outputs": [],
   "source": [
    "# save trained adapter weights\n",
    "lora_model.save_pretrained('distilbert-lora')"
   ]
  },
  {
   "cell_type": "markdown",
   "id": "615b12c6",
   "metadata": {},
   "source": [
    "## Performing Inference with a PEFT Model\n",
    "\n",
    "TODO: In the cells below, load the saved PEFT model weights and evaluate the performance of the trained PEFT model. Be sure to compare the results to the results from prior to fine-tuning."
   ]
  },
  {
   "cell_type": "code",
   "execution_count": 30,
   "id": "863ec66e",
   "metadata": {},
   "outputs": [],
   "source": [
    "from peft import AutoPeftModelForSequenceClassification"
   ]
  },
  {
   "cell_type": "code",
   "execution_count": 31,
   "id": "bc3a8147",
   "metadata": {},
   "outputs": [
    {
     "name": "stderr",
     "output_type": "stream",
     "text": [
      "Some weights of DistilBertForSequenceClassification were not initialized from the model checkpoint at distilbert-base-uncased and are newly initialized: ['pre_classifier.bias', 'classifier.weight', 'classifier.bias', 'pre_classifier.weight']\n",
      "You should probably TRAIN this model on a down-stream task to be able to use it for predictions and inference.\n"
     ]
    }
   ],
   "source": [
    "# load saved lora model\n",
    "lora_model = AutoPeftModelForSequenceClassification.from_pretrained('distilbert-lora')"
   ]
  },
  {
   "cell_type": "code",
   "execution_count": 50,
   "id": "866ab28c",
   "metadata": {},
   "outputs": [
    {
     "name": "stdout",
     "output_type": "stream",
     "text": [
      "sample_text: fldopaype.com\n",
      "predicted: phishing\n",
      "actual:phishing\n"
     ]
    }
   ],
   "source": [
    "# pick a sample from test set and run inference\n",
    "run_inference(0)"
   ]
  },
  {
   "cell_type": "code",
   "execution_count": null,
   "id": "a9065360",
   "metadata": {},
   "outputs": [],
   "source": []
  }
 ],
 "metadata": {
  "kernelspec": {
   "display_name": "Python 3 (ipykernel)",
   "language": "python",
   "name": "python3"
  },
  "language_info": {
   "codemirror_mode": {
    "name": "ipython",
    "version": 3
   },
   "file_extension": ".py",
   "mimetype": "text/x-python",
   "name": "python",
   "nbconvert_exporter": "python",
   "pygments_lexer": "ipython3",
   "version": "3.10.11"
  }
 },
 "nbformat": 4,
 "nbformat_minor": 5
}
